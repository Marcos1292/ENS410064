{
 "cells": [
  {
   "cell_type": "markdown",
   "id": "f953a3e4-3caa-44a9-a6c8-4113d222c041",
   "metadata": {},
   "source": [
    "# Aula 1\n",
    "- Tpos variaveis\n",
    "- -operações matematicas\n",
    "- -uso de pacote\n",
    "- -numpy array\n",
    "- Condições"
   ]
  },
  {
   "cell_type": "markdown",
   "id": "e94d3f47-939e-43ca-bf24-88dc116d0181",
   "metadata": {},
   "source": [
    "# Tipos variáveis"
   ]
  },
  {
   "cell_type": "code",
   "execution_count": 7,
   "id": "4777a2c9-045e-499c-b55b-f292903c20ea",
   "metadata": {},
   "outputs": [
    {
     "name": "stdout",
     "output_type": "stream",
     "text": [
      "o valor de a é igual a 1\n",
      "<class 'int'>\n"
     ]
    }
   ],
   "source": [
    "# Numeros inteiros - int- inteiros\n",
    "a = 1\n",
    "print('o valor de a é igual a '+ str(a))\n",
    "print(type(a))"
   ]
  },
  {
   "cell_type": "code",
   "execution_count": 9,
   "id": "f83f73a9-f484-490b-bf71-5ca4561739cd",
   "metadata": {},
   "outputs": [
    {
     "name": "stdout",
     "output_type": "stream",
     "text": [
      "O valor de  b é igual a 3.1234\n"
     ]
    }
   ],
   "source": [
    "#Numeros reais - florat- double - double precision\n",
    "b= 3.1234\n",
    "print('O valor de  b é igual a '+ str(b))"
   ]
  },
  {
   "cell_type": "code",
   "execution_count": 13,
   "id": "a6fdce76-3e0b-44d9-bef2-5a7def0073c4",
   "metadata": {},
   "outputs": [
    {
     "name": "stdout",
     "output_type": "stream",
     "text": [
      "<class 'str'>\n",
      "Bianca esta fazendo bagundo Com ajuda de Bruna e Ana Julia\n"
     ]
    }
   ],
   "source": [
    "#texto -char - str\n",
    "\n",
    "c= 'Bianca esta fazendo bagundo'\n",
    "print(type(c))\n",
    "d= ' Com ajuda de Bruna e Ana Julia'\n",
    "print(c+d)"
   ]
  },
  {
   "cell_type": "code",
   "execution_count": 23,
   "id": "caacb993-a3a0-401f-acbc-3b31ce2745cd",
   "metadata": {},
   "outputs": [
    {
     "name": "stdout",
     "output_type": "stream",
     "text": [
      "['Marcos', 'Maria eduarda', 'Leonardo']\n",
      "['Marcos', 'Maria eduarda', 'Leonardo']\n",
      "3\n",
      "O tamanho da lista é 3\n",
      "[1, 2, 3, 10, 7]\n",
      "[10, 10, 6, 'jose', 'Marcos', 'Rafael']\n"
     ]
    }
   ],
   "source": [
    "#Lista de texto\n",
    "\n",
    "nameList= ['Marcos','Maria eduarda', 'Leonardo']\n",
    "print(nameList)\n",
    "print(nameList)\n",
    "\n",
    "#Comando para identificar o tamanho da lista\n",
    "print(len(nameList))\n",
    "print('O tamanho da lista é ' + str(len(nameList)))\n",
    "\n",
    "#Agora lista d números\n",
    "numlist= [1,2,3,10,7]\n",
    "print(numlist)\n",
    "\n",
    "# Agora uma lista de numeros e str\n",
    "\n",
    "numnamelist= [10,10,6,'jose', 'Marcos', 'Rafael',]\n",
    "print(numnamelist)"
   ]
  },
  {
   "cell_type": "code",
   "execution_count": 39,
   "id": "f4556bac-d2a3-4fcb-a2ef-212d5b837f94",
   "metadata": {},
   "outputs": [
    {
     "name": "stdout",
     "output_type": "stream",
     "text": [
      "10\n",
      "<class 'int'>\n"
     ]
    }
   ],
   "source": [
    "#Acessando os vaalores da lista \n",
    "\n",
    "print(numnamelist[0])\n",
    "\n",
    "#Determinar o tipo da variavel na posição 0 da lista\n",
    "print(type(numnamelist[0]))"
   ]
  },
  {
   "cell_type": "code",
   "execution_count": 53,
   "id": "a07348e2-fc3a-4646-8fdd-f91fa2750808",
   "metadata": {},
   "outputs": [
    {
     "name": "stdout",
     "output_type": "stream",
     "text": [
      "<class 'dict'>\n",
      "1.95\n",
      "1.67\n",
      "1.63\n",
      "A soma das alturas é 5.25\n",
      "O indice da maatriz é 0e a altura de marcosé 1.95\n",
      "O indice da maatriz é 1e a altura de Larissaé 1.67\n",
      "O indice da maatriz é 2e a altura de Daphaneé 1.63\n"
     ]
    }
   ],
   "source": [
    "#Dicionario\n",
    "namedict = {\n",
    "    'name' : ['marcos','Larissa','Daphane'],\n",
    "    'Altura': [ 1.95 , 1.67, 1.63]\n",
    "}\n",
    "print(type(namedisct))\n",
    "\n",
    "#Extraindo os vaalores da variaveis altura do dicionario\n",
    "\n",
    "namedict['Altura']\n",
    "\n",
    "#Extraindo o segundo valor da variavel altura dentro do ddicionario\n",
    "namedict['name'][1]\n",
    "\n",
    "#Soma das alturas do dicionario usando loop\n",
    "somadasalturas = 0\n",
    "for alturas in namedict ['Altura']:\n",
    "    print(alturas)\n",
    "    somadasalturas = somadasalturas + alturas\n",
    "print('A soma das alturas é '+ str(somadasalturas))\n",
    "\n",
    "#usando outra forma de soma das altura\n",
    "\n",
    "for ii,alturas in enumerate(namedict['Altura']):\n",
    "    print('O indice da maatriz é ' + str(ii) + 'e a altura de '+str(namedict['name'][ii]) + 'é ' + str(alturas))"
   ]
  }
 ],
 "metadata": {
  "kernelspec": {
   "display_name": "Python 3 (ipykernel)",
   "language": "python",
   "name": "python3"
  },
  "language_info": {
   "codemirror_mode": {
    "name": "ipython",
    "version": 3
   },
   "file_extension": ".py",
   "mimetype": "text/x-python",
   "name": "python",
   "nbconvert_exporter": "python",
   "pygments_lexer": "ipython3",
   "version": "3.11.8"
  }
 },
 "nbformat": 4,
 "nbformat_minor": 5
}
